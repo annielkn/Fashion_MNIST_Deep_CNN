{
  "nbformat": 4,
  "nbformat_minor": 0,
  "metadata": {
    "colab": {
      "name": "fashsion_MNIST.ipynb",
      "provenance": []
    },
    "kernelspec": {
      "name": "python3",
      "display_name": "Python 3"
    }
  },
  "cells": [
    {
      "cell_type": "code",
      "metadata": {
        "id": "9DiswJ1NHBbo",
        "colab_type": "code",
        "outputId": "a84ed11a-b1b3-43b7-e825-c6eaaf13a0cd",
        "colab": {
          "base_uri": "https://localhost:8080/",
          "height": 52
        }
      },
      "source": [
        "import tensorflow as tf\n",
        "print('Tensorflow version:',tf.__version__)\n",
        "import numpy as np\n",
        "import pandas as pd\n",
        "from matplotlib import pyplot as plt\n",
        "from keras.models import Sequential\n",
        "from keras.layers import Dense, Activation"
      ],
      "execution_count": 0,
      "outputs": [
        {
          "output_type": "stream",
          "text": [
            "Tensorflow version: 1.10.0\n"
          ],
          "name": "stdout"
        },
        {
          "output_type": "stream",
          "text": [
            "Using TensorFlow backend.\n"
          ],
          "name": "stderr"
        }
      ]
    },
    {
      "cell_type": "code",
      "metadata": {
        "id": "k_jmL_2cSxBB",
        "colab_type": "code",
        "outputId": "c7fcafdf-4b5c-4b20-a29f-55324b2b2c3e",
        "colab": {
          "base_uri": "https://localhost:8080/",
          "height": 105
        }
      },
      "source": [
        "!git clone https://github.com/InFoCusp/tf_cnnvis.git"
      ],
      "execution_count": 0,
      "outputs": [
        {
          "output_type": "stream",
          "text": [
            "Cloning into 'tf_cnnvis'...\n",
            "remote: Counting objects: 350, done.\u001b[K\n",
            "remote: Total 350 (delta 0), reused 0 (delta 0), pack-reused 350\u001b[K\n",
            "Receiving objects: 100% (350/350), 3.71 MiB | 27.56 MiB/s, done.\n",
            "Resolving deltas: 100% (182/182), done.\n"
          ],
          "name": "stdout"
        }
      ]
    },
    {
      "cell_type": "code",
      "metadata": {
        "id": "FvCkmh3zU3tA",
        "colab_type": "code",
        "outputId": "5dec52e0-7ab3-4f16-c38f-384e9c2c28cd",
        "colab": {
          "base_uri": "https://localhost:8080/",
          "height": 2360
        }
      },
      "source": [
        "!python tf_cnnvis/setup.py install\n",
        "!python tf_cnnvis/setup.py clean"
      ],
      "execution_count": 0,
      "outputs": [
        {
          "output_type": "stream",
          "text": [
            "running install\n",
            "running bdist_egg\n",
            "running egg_info\n",
            "creating tf_cnnvis.egg-info\n",
            "writing tf_cnnvis.egg-info/PKG-INFO\n",
            "writing dependency_links to tf_cnnvis.egg-info/dependency_links.txt\n",
            "writing requirements to tf_cnnvis.egg-info/requires.txt\n",
            "writing top-level names to tf_cnnvis.egg-info/top_level.txt\n",
            "writing manifest file 'tf_cnnvis.egg-info/SOURCES.txt'\n",
            "package init file 'tf_cnnvis/__init__.py' not found (or not a regular file)\n",
            "reading manifest file 'tf_cnnvis.egg-info/SOURCES.txt'\n",
            "writing manifest file 'tf_cnnvis.egg-info/SOURCES.txt'\n",
            "installing library code to build/bdist.linux-x86_64/egg\n",
            "running install_lib\n",
            "running build_py\n",
            "creating build\n",
            "creating build/lib\n",
            "creating build/lib/tf_cnnvis\n",
            "copying tf_cnnvis/setup.py -> build/lib/tf_cnnvis\n",
            "creating build/bdist.linux-x86_64\n",
            "creating build/bdist.linux-x86_64/egg\n",
            "creating build/bdist.linux-x86_64/egg/tf_cnnvis\n",
            "copying build/lib/tf_cnnvis/setup.py -> build/bdist.linux-x86_64/egg/tf_cnnvis\n",
            "byte-compiling build/bdist.linux-x86_64/egg/tf_cnnvis/setup.py to setup.cpython-36.pyc\n",
            "creating build/bdist.linux-x86_64/egg/EGG-INFO\n",
            "copying tf_cnnvis.egg-info/PKG-INFO -> build/bdist.linux-x86_64/egg/EGG-INFO\n",
            "copying tf_cnnvis.egg-info/SOURCES.txt -> build/bdist.linux-x86_64/egg/EGG-INFO\n",
            "copying tf_cnnvis.egg-info/dependency_links.txt -> build/bdist.linux-x86_64/egg/EGG-INFO\n",
            "copying tf_cnnvis.egg-info/requires.txt -> build/bdist.linux-x86_64/egg/EGG-INFO\n",
            "copying tf_cnnvis.egg-info/top_level.txt -> build/bdist.linux-x86_64/egg/EGG-INFO\n",
            "zip_safe flag not set; analyzing archive contents...\n",
            "tf_cnnvis.__pycache__.setup.cpython-36: module references __file__\n",
            "creating dist\n",
            "creating 'dist/tf_cnnvis-1.0.0-py3.6.egg' and adding 'build/bdist.linux-x86_64/egg' to it\n",
            "removing 'build/bdist.linux-x86_64/egg' (and everything under it)\n",
            "Processing tf_cnnvis-1.0.0-py3.6.egg\n",
            "creating /usr/local/lib/python3.6/dist-packages/tf_cnnvis-1.0.0-py3.6.egg\n",
            "Extracting tf_cnnvis-1.0.0-py3.6.egg to /usr/local/lib/python3.6/dist-packages\n",
            "Adding tf-cnnvis 1.0.0 to easy-install.pth file\n",
            "\n",
            "Installed /usr/local/lib/python3.6/dist-packages/tf_cnnvis-1.0.0-py3.6.egg\n",
            "Processing dependencies for tf-cnnvis==1.0.0\n",
            "Searching for wget\n",
            "Reading https://pypi.org/simple/wget/\n",
            "Downloading https://files.pythonhosted.org/packages/47/6a/62e288da7bcda82b935ff0c6cfe542970f04e29c756b0e147251b2fb251f/wget-3.2.zip#sha256=35e630eca2aa50ce998b9b1a127bb26b30dfee573702782aa982f875e3f16061\n",
            "Best match: wget 3.2\n",
            "Processing wget-3.2.zip\n",
            "Writing /tmp/easy_install-f30quke8/wget-3.2/setup.cfg\n",
            "Running wget-3.2/setup.py -q bdist_egg --dist-dir /tmp/easy_install-f30quke8/wget-3.2/egg-dist-tmp-ardwgpyu\n",
            "zip_safe flag not set; analyzing archive contents...\n",
            "Moving wget-3.2-py3.6.egg to /usr/local/lib/python3.6/dist-packages\n",
            "Adding wget 3.2 to easy-install.pth file\n",
            "\n",
            "Installed /usr/local/lib/python3.6/dist-packages/wget-3.2-py3.6.egg\n",
            "Searching for scikit-image==0.13.1\n",
            "Best match: scikit-image 0.13.1\n",
            "Adding scikit-image 0.13.1 to easy-install.pth file\n",
            "Installing skivi script to /usr/local/bin\n",
            "\n",
            "Using /usr/local/lib/python3.6/dist-packages\n",
            "Searching for six==1.11.0\n",
            "Best match: six 1.11.0\n",
            "Adding six 1.11.0 to easy-install.pth file\n",
            "\n",
            "Using /usr/local/lib/python3.6/dist-packages\n",
            "Searching for Pillow==4.0.0\n",
            "Best match: Pillow 4.0.0\n",
            "Adding Pillow 4.0.0 to easy-install.pth file\n",
            "\n",
            "Using /usr/local/lib/python3.6/dist-packages\n",
            "Searching for h5py==2.8.0\n",
            "Best match: h5py 2.8.0\n",
            "Adding h5py 2.8.0 to easy-install.pth file\n",
            "\n",
            "Using /usr/local/lib/python3.6/dist-packages\n",
            "Searching for scipy==0.19.1\n",
            "Best match: scipy 0.19.1\n",
            "Adding scipy 0.19.1 to easy-install.pth file\n",
            "\n",
            "Using /usr/local/lib/python3.6/dist-packages\n",
            "Searching for numpy==1.14.5\n",
            "Best match: numpy 1.14.5\n",
            "Adding numpy 1.14.5 to easy-install.pth file\n",
            "\n",
            "Using /usr/local/lib/python3.6/dist-packages\n",
            "Searching for matplotlib==2.1.2\n",
            "Best match: matplotlib 2.1.2\n",
            "Adding matplotlib 2.1.2 to easy-install.pth file\n",
            "\n",
            "Using /usr/local/lib/python3.6/dist-packages\n",
            "Searching for PyWavelets==0.5.2\n",
            "Best match: PyWavelets 0.5.2\n",
            "Adding PyWavelets 0.5.2 to easy-install.pth file\n",
            "\n",
            "Using /usr/local/lib/python3.6/dist-packages\n",
            "Searching for networkx==2.1\n",
            "Best match: networkx 2.1\n",
            "Adding networkx 2.1 to easy-install.pth file\n",
            "\n",
            "Using /usr/local/lib/python3.6/dist-packages\n",
            "Searching for olefile==0.45.1\n",
            "Best match: olefile 0.45.1\n",
            "Adding olefile 0.45.1 to easy-install.pth file\n",
            "\n",
            "Using /usr/local/lib/python3.6/dist-packages\n",
            "Searching for pytz==2018.5\n",
            "Best match: pytz 2018.5\n",
            "Adding pytz 2018.5 to easy-install.pth file\n",
            "\n",
            "Using /usr/local/lib/python3.6/dist-packages\n",
            "Searching for python-dateutil==2.5.3\n",
            "Best match: python-dateutil 2.5.3\n",
            "Adding python-dateutil 2.5.3 to easy-install.pth file\n",
            "\n",
            "Using /usr/local/lib/python3.6/dist-packages\n",
            "Searching for cycler==0.10.0\n",
            "Best match: cycler 0.10.0\n",
            "Adding cycler 0.10.0 to easy-install.pth file\n",
            "\n",
            "Using /usr/local/lib/python3.6/dist-packages\n",
            "Searching for pyparsing==2.2.0\n",
            "Best match: pyparsing 2.2.0\n",
            "Adding pyparsing 2.2.0 to easy-install.pth file\n",
            "\n",
            "Using /usr/local/lib/python3.6/dist-packages\n",
            "Searching for decorator==4.3.0\n",
            "Best match: decorator 4.3.0\n",
            "Adding decorator 4.3.0 to easy-install.pth file\n",
            "\n",
            "Using /usr/local/lib/python3.6/dist-packages\n",
            "Finished processing dependencies for tf-cnnvis==1.0.0\n",
            "running clean\n"
          ],
          "name": "stdout"
        }
      ]
    },
    {
      "cell_type": "code",
      "metadata": {
        "id": "8jrjv4R_Tezp",
        "colab_type": "code",
        "colab": {}
      },
      "source": [
        "import os\n",
        "import sys\n",
        "import copy\n",
        "import h5py\n",
        "from tf_cnnvis import *\n",
        "from scipy.misc import imread, imresize"
      ],
      "execution_count": 0,
      "outputs": []
    },
    {
      "cell_type": "code",
      "metadata": {
        "id": "g5gUoWwWHWBU",
        "colab_type": "code",
        "outputId": "6fb95db0-09e6-4855-b46a-16d09c3aa2ab",
        "colab": {
          "base_uri": "https://localhost:8080/",
          "height": 158
        }
      },
      "source": [
        "(x_train, y_train), (x_test, y_test) = tf.keras.datasets.fashion_mnist.load_data()"
      ],
      "execution_count": 0,
      "outputs": [
        {
          "output_type": "stream",
          "text": [
            "Downloading data from https://storage.googleapis.com/tensorflow/tf-keras-datasets/train-labels-idx1-ubyte.gz\n",
            "32768/29515 [=================================] - 0s 0us/step\n",
            "Downloading data from https://storage.googleapis.com/tensorflow/tf-keras-datasets/train-images-idx3-ubyte.gz\n",
            "26427392/26421880 [==============================] - 0s 0us/step\n",
            "Downloading data from https://storage.googleapis.com/tensorflow/tf-keras-datasets/t10k-labels-idx1-ubyte.gz\n",
            "8192/5148 [===============================================] - 0s 0us/step\n",
            "Downloading data from https://storage.googleapis.com/tensorflow/tf-keras-datasets/t10k-images-idx3-ubyte.gz\n",
            "4423680/4422102 [==============================] - 0s 0us/step\n"
          ],
          "name": "stdout"
        }
      ]
    },
    {
      "cell_type": "code",
      "metadata": {
        "id": "c-B6j1ZSIDue",
        "colab_type": "code",
        "outputId": "f1ba141a-d3ae-423f-ac17-1fd7262e76a7",
        "colab": {
          "base_uri": "https://localhost:8080/",
          "height": 87
        }
      },
      "source": [
        "x_train = x_train.astype('float32')/max(x_train.flatten())\n",
        "x_test = x_test.astype('float32')/max(x_train.flatten())\n",
        "print('Pixel max:',max(x_train.flatten()),', Pixel min:',min(x_train.flatten()))\n",
        "\n",
        "y_train_label = tf.keras.utils.to_categorical(y_train,10)\n",
        "y_test_label = tf.keras.utils.to_categorical(y_test,10)\n",
        "print('Train label shape:',y_train_label.shape,', Test label shape:',y_test_label.shape)\n",
        "\n",
        "train_size = x_train.shape[0]\n",
        "test_size = x_test.shape[0]\n",
        "print('Train size:',train_size, ', Test size:',test_size)\n",
        "\n",
        "x_train = x_train.reshape(train_size,28,28,1)\n",
        "x_test = x_test.reshape(test_size,28,28,1)\n",
        "print('Train data shape:', x_train.shape,', Test data shape:', x_test.shape)\n",
        "\n"
      ],
      "execution_count": 0,
      "outputs": [
        {
          "output_type": "stream",
          "text": [
            "Pixel max: 1.0 , Pixel min: 0.0\n",
            "Train label shape: (60000, 10) , Test label shape: (10000, 10)\n",
            "Train size: 60000 , Test size: 10000\n",
            "Train data shape: (60000, 28, 28, 1) , Test data shape: (10000, 28, 28, 1)\n"
          ],
          "name": "stdout"
        }
      ]
    },
    {
      "cell_type": "code",
      "metadata": {
        "id": "LHA0YjVdfAdn",
        "colab_type": "code",
        "outputId": "deac39c6-0671-4315-f917-7112485e9bf3",
        "colab": {
          "base_uri": "https://localhost:8080/",
          "height": 365
        }
      },
      "source": [
        "plt.imshow(x_train[np.random.randint(0,train_size)].reshape(28,28))"
      ],
      "execution_count": 0,
      "outputs": [
        {
          "output_type": "execute_result",
          "data": {
            "text/plain": [
              "<matplotlib.image.AxesImage at 0x7f78fe979b38>"
            ]
          },
          "metadata": {
            "tags": []
          },
          "execution_count": 9
        },
        {
          "output_type": "display_data",
          "data": {
            "image/png": "[encoded data removed]",
            "text/plain": [
              "<matplotlib.figure.Figure at 0x7f78fe9a5ba8>"
            ]
          },
          "metadata": {
            "tags": []
          }
        }
      ]
    },
    {
      "cell_type": "code",
      "metadata": {
        "id": "NmNUTIDLD6RM",
        "colab_type": "code",
        "outputId": "3a9c0a87-6018-4c6a-a53e-14dac394efa2",
        "colab": {
          "base_uri": "https://localhost:8080/",
          "height": 184
        }
      },
      "source": [
        "print(max(x_train.flatten()), y_train[:10], y_train_label[:10])"
      ],
      "execution_count": 0,
      "outputs": [
        {
          "output_type": "stream",
          "text": [
            "1.0 [9 0 0 3 0 2 7 2 5 5] [[0. 0. 0. 0. 0. 0. 0. 0. 0. 1.]\n",
            " [1. 0. 0. 0. 0. 0. 0. 0. 0. 0.]\n",
            " [1. 0. 0. 0. 0. 0. 0. 0. 0. 0.]\n",
            " [0. 0. 0. 1. 0. 0. 0. 0. 0. 0.]\n",
            " [1. 0. 0. 0. 0. 0. 0. 0. 0. 0.]\n",
            " [0. 0. 1. 0. 0. 0. 0. 0. 0. 0.]\n",
            " [0. 0. 0. 0. 0. 0. 0. 1. 0. 0.]\n",
            " [0. 0. 1. 0. 0. 0. 0. 0. 0. 0.]\n",
            " [0. 0. 0. 0. 0. 1. 0. 0. 0. 0.]\n",
            " [0. 0. 0. 0. 0. 1. 0. 0. 0. 0.]]\n"
          ],
          "name": "stdout"
        }
      ]
    },
    {
      "cell_type": "markdown",
      "metadata": {
        "id": "JlzNjl1dR8fR",
        "colab_type": "text"
      },
      "source": [
        "**Model training (Keras)**"
      ]
    },
    {
      "cell_type": "markdown",
      "metadata": {
        "id": "PTrgO5rqXRI6",
        "colab_type": "text"
      },
      "source": [
        "**Building the model**"
      ]
    },
    {
      "cell_type": "code",
      "metadata": {
        "id": "-6FtPWLsJFeZ",
        "colab_type": "code",
        "outputId": "854d756d-8fb4-4501-9a97-7822f59f92ec",
        "colab": {
          "base_uri": "https://localhost:8080/",
          "height": 175
        }
      },
      "source": [
        "tf.keras.backend.clear_session()\n",
        "from tensorflow.keras.models import Sequential\n",
        "from tensorflow.keras.layers import Dense, Activation, Input\n",
        "\n",
        "\n",
        "model = Sequential()\n",
        "model.add(Dense(10,input_shape=(28*28,),activation='softmax'))\n",
        "#model.add(Dense(10,activation='softmax'))\n",
        "\n",
        "model.compile(loss='categorical_crossentropy',\n",
        "             optimizer='sgd',\n",
        "             metrics=['accuracy'])\n",
        "\n",
        "model.summary()\n",
        "'''\n",
        "model = tf.keras.Sequential()\n",
        "\n",
        "model.add(tf.keras.layers.Conv2D(filters=128, kernel_size=4, padding='same', activation='relu', input_shape=(28,28,1))) \n",
        "model.add(tf.keras.layers.MaxPooling2D(pool_size=2))\n",
        "model.add(tf.keras.layers.Dropout(0.3))\n",
        "\n",
        "model.add(tf.keras.layers.Conv2D(filters=64, kernel_size=4, padding='same', activation='relu'))\n",
        "model.add(tf.keras.layers.MaxPooling2D(pool_size=2))\n",
        "model.add(tf.keras.layers.Dropout(0.3))\n",
        "\n",
        "model.add(tf.keras.layers.Flatten())\n",
        "model.add(tf.keras.layers.Dense(256,activation='relu'))\n",
        "model.add(tf.keras.layers.Dropout(0.5))\n",
        "model.add(tf.keras.layers.Dense(10,activation='softmax'))\n",
        "model.add(tf.keras.layers.Flatten())\n",
        "\n",
        "model.summary()\n",
        "\n",
        "# Compile the model\n",
        "model.compile(loss='categorical_crossentropy',\n",
        "             optimizer='adam',\n",
        "             metrics=['accuracy'])\n",
        "'''\n",
        "!rm -rf log"
      ],
      "execution_count": 0,
      "outputs": [
        {
          "output_type": "stream",
          "text": [
            "_________________________________________________________________\n",
            "Layer (type)                 Output Shape              Param #   \n",
            "=================================================================\n",
            "dense (Dense)                (None, 10)                7850      \n",
            "=================================================================\n",
            "Total params: 7,850\n",
            "Trainable params: 7,850\n",
            "Non-trainable params: 0\n",
            "_________________________________________________________________\n"
          ],
          "name": "stdout"
        }
      ]
    },
    {
      "cell_type": "markdown",
      "metadata": {
        "id": "5Op23J1EXXVC",
        "colab_type": "text"
      },
      "source": [
        "**Fitting the data**"
      ]
    },
    {
      "cell_type": "code",
      "metadata": {
        "id": "cnRmuLnGXZ4Z",
        "colab_type": "code",
        "outputId": "e8f1981c-ba32-4d24-d543-aec4d2d95db5",
        "colab": {
          "base_uri": "https://localhost:8080/",
          "height": 2164
        }
      },
      "source": [
        "from tensorflow.keras.callbacks import ModelCheckpoint, TensorBoard\n",
        "\n",
        "batch_size = 100\n",
        "epoch = 30\n",
        "\n",
        "tfcb = tf.keras.callbacks.TensorBoard(log_dir='./log', histogram_freq=1,\n",
        "                         write_graph=True,\n",
        "                         write_grads=True,\n",
        "                         batch_size=batch_size,\n",
        "                         write_images=True)\n",
        "\n",
        "modelckpt = ModelCheckpoint(filepath='./model.hdf5', monitor='val_acc', verbose=1, save_best_only=True, save_weights_only=False, mode='auto',period=1)\n",
        "\n",
        "model.fit(x_train.reshape(train_size,28*28), y_train_label, epochs=epoch, batch_size=batch_size, validation_split=0.3, callbacks=[modelckpt])"
      ],
      "execution_count": 0,
      "outputs": [
        {
          "output_type": "stream",
          "text": [
            "Train on 42000 samples, validate on 18000 samples\n",
            "Epoch 1/30\n",
            "42000/42000 [==============================] - 1s 25us/step - loss: 1.2067 - acc: 0.6347 - val_loss: 0.8776 - val_acc: 0.7267\n",
            "\n",
            "Epoch 00001: val_acc improved from -inf to 0.72667, saving model to ./model.hdf5\n",
            "Epoch 2/30\n",
            "42000/42000 [==============================] - 1s 23us/step - loss: 0.8045 - acc: 0.7476 - val_loss: 0.7464 - val_acc: 0.7672\n",
            "\n",
            "Epoch 00002: val_acc improved from 0.72667 to 0.76722, saving model to ./model.hdf5\n",
            "Epoch 3/30\n",
            "42000/42000 [==============================] - 1s 20us/step - loss: 0.7127 - acc: 0.7743 - val_loss: 0.6820 - val_acc: 0.7817\n",
            "\n",
            "Epoch 00003: val_acc improved from 0.76722 to 0.78172, saving model to ./model.hdf5\n",
            "Epoch 4/30\n",
            "42000/42000 [==============================] - 1s 20us/step - loss: 0.6630 - acc: 0.7884 - val_loss: 0.6447 - val_acc: 0.7916\n",
            "\n",
            "Epoch 00004: val_acc improved from 0.78172 to 0.79161, saving model to ./model.hdf5\n",
            "Epoch 5/30\n",
            "42000/42000 [==============================] - 1s 20us/step - loss: 0.6305 - acc: 0.7983 - val_loss: 0.6221 - val_acc: 0.7960\n",
            "\n",
            "Epoch 00005: val_acc improved from 0.79161 to 0.79600, saving model to ./model.hdf5\n",
            "Epoch 6/30\n",
            "42000/42000 [==============================] - 1s 20us/step - loss: 0.6069 - acc: 0.8054 - val_loss: 0.5999 - val_acc: 0.8017\n",
            "\n",
            "Epoch 00006: val_acc improved from 0.79600 to 0.80172, saving model to ./model.hdf5\n",
            "Epoch 7/30\n",
            "42000/42000 [==============================] - 1s 20us/step - loss: 0.5886 - acc: 0.8099 - val_loss: 0.5826 - val_acc: 0.8099\n",
            "\n",
            "Epoch 00007: val_acc improved from 0.80172 to 0.80994, saving model to ./model.hdf5\n",
            "Epoch 8/30\n",
            "42000/42000 [==============================] - 1s 20us/step - loss: 0.5738 - acc: 0.8137 - val_loss: 0.5701 - val_acc: 0.8136\n",
            "\n",
            "Epoch 00008: val_acc improved from 0.80994 to 0.81356, saving model to ./model.hdf5\n",
            "Epoch 9/30\n",
            "42000/42000 [==============================] - 1s 20us/step - loss: 0.5616 - acc: 0.8166 - val_loss: 0.5594 - val_acc: 0.8166\n",
            "\n",
            "Epoch 00009: val_acc improved from 0.81356 to 0.81656, saving model to ./model.hdf5\n",
            "Epoch 10/30\n",
            "42000/42000 [==============================] - 1s 20us/step - loss: 0.5515 - acc: 0.8188 - val_loss: 0.5506 - val_acc: 0.8186\n",
            "\n",
            "Epoch 00010: val_acc improved from 0.81656 to 0.81861, saving model to ./model.hdf5\n",
            "Epoch 11/30\n",
            "42000/42000 [==============================] - 1s 20us/step - loss: 0.5426 - acc: 0.8218 - val_loss: 0.5425 - val_acc: 0.8213\n",
            "\n",
            "Epoch 00011: val_acc improved from 0.81861 to 0.82128, saving model to ./model.hdf5\n",
            "Epoch 12/30\n",
            "42000/42000 [==============================] - 1s 20us/step - loss: 0.5350 - acc: 0.8245 - val_loss: 0.5383 - val_acc: 0.8212\n",
            "\n",
            "Epoch 00012: val_acc did not improve from 0.82128\n",
            "Epoch 13/30\n",
            "42000/42000 [==============================] - 1s 20us/step - loss: 0.5280 - acc: 0.8267 - val_loss: 0.5310 - val_acc: 0.8232\n",
            "\n",
            "Epoch 00013: val_acc improved from 0.82128 to 0.82322, saving model to ./model.hdf5\n",
            "Epoch 14/30\n",
            "42000/42000 [==============================] - 1s 22us/step - loss: 0.5221 - acc: 0.8282 - val_loss: 0.5250 - val_acc: 0.8258\n",
            "\n",
            "Epoch 00014: val_acc improved from 0.82322 to 0.82578, saving model to ./model.hdf5\n",
            "Epoch 15/30\n",
            "42000/42000 [==============================] - 1s 22us/step - loss: 0.5168 - acc: 0.8297 - val_loss: 0.5198 - val_acc: 0.8261\n",
            "\n",
            "Epoch 00015: val_acc improved from 0.82578 to 0.82606, saving model to ./model.hdf5\n",
            "Epoch 16/30\n",
            "42000/42000 [==============================] - 1s 20us/step - loss: 0.5114 - acc: 0.8309 - val_loss: 0.5154 - val_acc: 0.8278\n",
            "\n",
            "Epoch 00016: val_acc improved from 0.82606 to 0.82783, saving model to ./model.hdf5\n",
            "Epoch 17/30\n",
            "42000/42000 [==============================] - 1s 20us/step - loss: 0.5073 - acc: 0.8324 - val_loss: 0.5110 - val_acc: 0.8293\n",
            "\n",
            "Epoch 00017: val_acc improved from 0.82783 to 0.82933, saving model to ./model.hdf5\n",
            "Epoch 18/30\n",
            "42000/42000 [==============================] - 1s 20us/step - loss: 0.5029 - acc: 0.8332 - val_loss: 0.5075 - val_acc: 0.8306\n",
            "\n",
            "Epoch 00018: val_acc improved from 0.82933 to 0.83056, saving model to ./model.hdf5\n",
            "Epoch 19/30\n",
            "42000/42000 [==============================] - 1s 20us/step - loss: 0.4991 - acc: 0.8342 - val_loss: 0.5056 - val_acc: 0.8298\n",
            "\n",
            "Epoch 00019: val_acc did not improve from 0.83056\n",
            "Epoch 20/30\n",
            "42000/42000 [==============================] - 1s 20us/step - loss: 0.4954 - acc: 0.8358 - val_loss: 0.5010 - val_acc: 0.8309\n",
            "\n",
            "Epoch 00020: val_acc improved from 0.83056 to 0.83089, saving model to ./model.hdf5\n",
            "Epoch 21/30\n",
            "42000/42000 [==============================] - 1s 19us/step - loss: 0.4923 - acc: 0.8366 - val_loss: 0.4990 - val_acc: 0.8309\n",
            "\n",
            "Epoch 00021: val_acc improved from 0.83089 to 0.83094, saving model to ./model.hdf5\n",
            "Epoch 22/30\n",
            "42000/42000 [==============================] - 1s 19us/step - loss: 0.4891 - acc: 0.8376 - val_loss: 0.4951 - val_acc: 0.8332\n",
            "\n",
            "Epoch 00022: val_acc improved from 0.83094 to 0.83322, saving model to ./model.hdf5\n",
            "Epoch 23/30\n",
            "42000/42000 [==============================] - 1s 19us/step - loss: 0.4861 - acc: 0.8379 - val_loss: 0.4933 - val_acc: 0.8327\n",
            "\n",
            "Epoch 00023: val_acc did not improve from 0.83322\n",
            "Epoch 24/30\n",
            "42000/42000 [==============================] - 1s 20us/step - loss: 0.4835 - acc: 0.8391 - val_loss: 0.4911 - val_acc: 0.8343\n",
            "\n",
            "Epoch 00024: val_acc improved from 0.83322 to 0.83428, saving model to ./model.hdf5\n",
            "Epoch 25/30\n",
            "42000/42000 [==============================] - 1s 19us/step - loss: 0.4806 - acc: 0.8397 - val_loss: 0.4884 - val_acc: 0.8349\n",
            "\n",
            "Epoch 00025: val_acc improved from 0.83428 to 0.83494, saving model to ./model.hdf5\n",
            "Epoch 26/30\n",
            "42000/42000 [==============================] - 1s 20us/step - loss: 0.4786 - acc: 0.8403 - val_loss: 0.4860 - val_acc: 0.8353\n",
            "\n",
            "Epoch 00026: val_acc improved from 0.83494 to 0.83528, saving model to ./model.hdf5\n",
            "Epoch 27/30\n",
            "42000/42000 [==============================] - 1s 19us/step - loss: 0.4763 - acc: 0.8406 - val_loss: 0.4843 - val_acc: 0.8357\n",
            "\n",
            "Epoch 00027: val_acc improved from 0.83528 to 0.83567, saving model to ./model.hdf5\n",
            "Epoch 28/30\n",
            "42000/42000 [==============================] - 1s 20us/step - loss: 0.4743 - acc: 0.8414 - val_loss: 0.4824 - val_acc: 0.8361\n",
            "\n",
            "Epoch 00028: val_acc improved from 0.83567 to 0.83611, saving model to ./model.hdf5\n",
            "Epoch 29/30\n",
            "42000/42000 [==============================] - 1s 19us/step - loss: 0.4720 - acc: 0.8425 - val_loss: 0.4815 - val_acc: 0.8358\n",
            "\n",
            "Epoch 00029: val_acc did not improve from 0.83611\n",
            "Epoch 30/30\n",
            "42000/42000 [==============================] - 1s 20us/step - loss: 0.4700 - acc: 0.8429 - val_loss: 0.4789 - val_acc: 0.8371\n",
            "\n",
            "Epoch 00030: val_acc improved from 0.83611 to 0.83706, saving model to ./model.hdf5\n"
          ],
          "name": "stdout"
        },
        {
          "output_type": "execute_result",
          "data": {
            "text/plain": [
              "<tensorflow.python.keras.callbacks.History at 0x7f78fc071c88>"
            ]
          },
          "metadata": {
            "tags": []
          },
          "execution_count": 11
        }
      ]
    },
    {
      "cell_type": "markdown",
      "metadata": {
        "id": "F9coUCz3Kjqw",
        "colab_type": "text"
      },
      "source": [
        "**get graph**"
      ]
    },
    {
      "cell_type": "code",
      "metadata": {
        "id": "kL3PW3JKKi9c",
        "colab_type": "code",
        "outputId": "4e4d5228-1bde-419e-afd7-1b646f80759b",
        "colab": {
          "base_uri": "https://localhost:8080/",
          "height": 35
        }
      },
      "source": [
        "from keras import backend as K\n",
        "tf_graph = K.get_session().graph\n",
        "print(tf_graph)"
      ],
      "execution_count": 0,
      "outputs": [
        {
          "output_type": "stream",
          "text": [
            "<tensorflow.python.framework.ops.Graph object at 0x7f78fe9a5780>\n"
          ],
          "name": "stdout"
        }
      ]
    },
    {
      "cell_type": "markdown",
      "metadata": {
        "id": "88aIDx-NmnK_",
        "colab_type": "text"
      },
      "source": [
        "**Model evaluation on test set**"
      ]
    },
    {
      "cell_type": "code",
      "metadata": {
        "id": "f0SV1TAiIO1V",
        "colab_type": "code",
        "outputId": "4c6affec-cd99-4e4d-ab4f-8a3f07e11499",
        "colab": {
          "base_uri": "https://localhost:8080/",
          "height": 33
        }
      },
      "source": [
        "y_test_label.shape"
      ],
      "execution_count": 0,
      "outputs": [
        {
          "output_type": "execute_result",
          "data": {
            "text/plain": [
              "(10000, 10)"
            ]
          },
          "metadata": {
            "tags": []
          },
          "execution_count": 14
        }
      ]
    },
    {
      "cell_type": "code",
      "metadata": {
        "id": "Roh6t94BlV_P",
        "colab_type": "code",
        "outputId": "5adf32b1-c49b-4d47-b792-b9cea48cefb0",
        "colab": {
          "base_uri": "https://localhost:8080/",
          "height": 67
        }
      },
      "source": [
        "score = model.evaluate(x_test.reshape(-1,28*28), y_test_label, verbose=1)\n",
        "print('Test loss:',score[0])\n",
        "print('Test accuracy:', score[1])"
      ],
      "execution_count": 0,
      "outputs": [
        {
          "output_type": "stream",
          "text": [
            "10000/10000 [==============================] - 0s 14us/step\n",
            "Test loss: 3.1743887393951415\n",
            "Test accuracy: 0.7991\n"
          ],
          "name": "stdout"
        }
      ]
    },
    {
      "cell_type": "code",
      "metadata": {
        "id": "w2qA6thO8B3s",
        "colab_type": "code",
        "outputId": "419a55be-30d9-4284-ccab-aa552f895cb5",
        "colab": {
          "base_uri": "https://localhost:8080/",
          "height": 481
        }
      },
      "source": [
        "prediction = model.predict(x_test.reshape(-1,28*28))\n",
        "\n",
        "fashion_mnist_labels = [\"T-shirt/top\", \n",
        "                            \"Trouser\",\n",
        "                            \"Pullover\",\n",
        "                            \"Dress\",\n",
        "                            \"Coat\",\n",
        "                            \"Sandal\", \n",
        "                            \"Shirt\",\n",
        "                            \"Sneaker\",\n",
        "                            \"Bag\",\n",
        "                            \"Ankle boot\"]\n",
        "\n",
        "figure = plt.figure(figsize=(20,8))\n",
        "\n",
        "for i, index in enumerate(np.random.choice(x_test.shape[0], size=15, replace=False)):\n",
        "    ax = figure.add_subplot(3, 5, i + 1, xticks=[], yticks=[])\n",
        "   \n",
        "    ax.imshow(x_test[index].reshape(28,28))\n",
        "    predict_index = np.argmax(prediction[index])\n",
        "    true_index = np.argmax(y_test_label[index])\n",
        "   \n",
        "    ax.set_title(\"{} ({})\".format(fashion_mnist_labels[predict_index], \n",
        "                                  fashion_mnist_labels[true_index]),\n",
        "                                  color=(\"green\" if predict_index == true_index else \"red\"))"
      ],
      "execution_count": 0,
      "outputs": [
        {
          "output_type": "display_data",
          "data": {
            "image/png": "[encoded data removed]",
            "text/plain": [
              "<matplotlib.figure.Figure at 0x7f4138068ba8>"
            ]
          },
          "metadata": {
            "tags": []
          }
        }
      ]
    },
    {
      "cell_type": "markdown",
      "metadata": {
        "id": "rPN2F8q0Rw_S",
        "colab_type": "text"
      },
      "source": [
        "**Model trainning (Raw TensorFlow)**"
      ]
    },
    {
      "cell_type": "markdown",
      "metadata": {
        "id": "caDbIPpb-8ik",
        "colab_type": "text"
      },
      "source": [
        "**Building the computational graph**"
      ]
    },
    {
      "cell_type": "code",
      "metadata": {
        "id": "drdSHv6NXbav",
        "colab_type": "code",
        "outputId": "67fb5425-9d37-4be7-af89-c30cfa487e46",
        "colab": {
          "base_uri": "https://localhost:8080/",
          "height": 50
        }
      },
      "source": [
        "batch_size = 100\n",
        "test_size = x_test.shape[0]\n",
        "\n",
        "graph = tf.Graph()\n",
        "with graph.as_default():\n",
        "  \n",
        "  tf_data = tf.placeholder(tf.float32, [batch_size, 28,28,1],name='data')\n",
        "  tf_label = tf.placeholder(tf.float32, [batch_size, 10], name='label')\n",
        "  keep_prob = tf.placeholder(tf.float32,name='kp')\n",
        "  \n",
        "  tf_test_data = tf.constant(x_test.reshape(-1,28,28,1))\n",
        "  tf_test_label = tf.constant(y_test_label)\n",
        "  \n",
        "  \n",
        "  filter = {\n",
        "      'l1': tf.Variable( tf.random_normal([4,4,1,128]) ),\n",
        "      'l2': tf.Variable( tf.random_normal([4,4,128,64]) )\n",
        "  }\n",
        "  \n",
        "  dense = {\n",
        "      'l1': tf.Variable( tf.random_normal([7*7*64,256]) ),\n",
        "      'l2': tf.Variable( tf.random_normal([256,10]) )\n",
        "  }\n",
        "  \n",
        "  \n",
        "  bia = {\n",
        "      'l1':tf.Variable( tf.random_normal([128]) ),\n",
        "      'l2':tf.Variable( tf.random_normal([64]) ),\n",
        "      'd1': tf.Variable( tf.random_normal([256]) ),\n",
        "      'd2': tf.Variable( tf.random_normal([10]) )\n",
        "  }\n",
        "  \n",
        "  w1 = tf.Variable( tf.random_normal([28*28,10]) )\n",
        "  b1 = tf.Variable( tf.random_normal([10]) )\n",
        "  \n",
        "  def model(data):\n",
        "    conv1 = tf.nn.conv2d(data, filter['l1'],strides=[1,1,1,1], padding='SAME')\n",
        "    conv1 = tf.nn.max_pool(conv1, ksize=[1,2,2,1],strides=[1,2,2,1], padding='VALID')\n",
        "    conv1 = tf.nn.relu(conv1 + bia['l1'])\n",
        "    conv1 = tf.nn.dropout(conv1,0.3)\n",
        "    \n",
        "    conv2 = tf.nn.conv2d(conv1, filter['l2'],strides=[1,1,1,1], padding='SAME')\n",
        "    conv2 = tf.nn.max_pool(conv2, ksize=[1,2,2,1],strides=[1,2,2,1], padding='VALID')\n",
        "    conv2 = tf.nn.relu(conv2 + bia['l2'])\n",
        "    conv2 = tf.nn.dropout(conv2,0.3)\n",
        "    flatten = tf.reshape(conv2,shape=(tf.shape(conv2)[0],7*7*64))\n",
        "    \n",
        "    dense1 = tf.matmul(flatten,dense['l1']) + bia['d1']\n",
        "    dense1 = tf.nn.relu(dense1)\n",
        "    dense1 = tf.nn.dropout(dense1,0.5)\n",
        "    \n",
        "    dense2 = tf.matmul(dense1,dense['l2']) + bia['d2']\n",
        "    #dense2 = tf.nn.relu(dense2)\n",
        "    #output = tf.nn.dropout(dense2,0.5)\n",
        "    \n",
        "    return dense2\n",
        "  \n",
        "  \n",
        "  def weight_variable(shape):\n",
        "    initial = tf.truncated_normal(shape, stddev=0.1)\n",
        "    return tf.Variable(initial)\n",
        "\n",
        "  def bias_variable(shape):\n",
        "    initial = tf.constant(0.1, shape=shape)\n",
        "    return tf.Variable(initial)\n",
        "  \n",
        "  def conv2d(x, W):\n",
        "    return tf.nn.conv2d(x, W, strides=[1, 1, 1, 1], padding='SAME')\n",
        "\n",
        "  def max_pool_2x2(x):\n",
        "    return tf.nn.max_pool(x, ksize=[1, 2, 2, 1],\n",
        "                        strides=[1, 2, 2, 1], padding='SAME')\n",
        "  \n",
        "\n",
        "\n",
        "  \n",
        "  \n",
        "  def lin_model(data):\n",
        "    \"\"\"\n",
        "    output = tf.matmul(tf.reshape(data,shape=(-1,28*28)),w1) + b1\n",
        "    \"\"\"\n",
        "    W_conv1 = weight_variable([5, 5, 1, 32])\n",
        "    b_conv1 = bias_variable([32])\n",
        "  \n",
        "    h_conv1 = tf.nn.relu(conv2d(data, W_conv1) + b_conv1)\n",
        "    h_pool1 = max_pool_2x2(h_conv1)\n",
        "    \n",
        "    W_conv2 = weight_variable([5, 5, 32, 64])\n",
        "    b_conv2 = bias_variable([64])\n",
        "    \n",
        "    h_conv2 = tf.nn.relu(conv2d(h_pool1, W_conv2) + b_conv2)\n",
        "    h_pool2 = max_pool_2x2(h_conv2)\n",
        "   \n",
        "    \n",
        "    W_fc1 = weight_variable([7 * 7 * 64, 1024])\n",
        "    b_fc1 = bias_variable([1024])\n",
        "\n",
        "    h_pool2_flat = tf.reshape(h_pool2, [-1, 7*7*64])\n",
        "    h_fc1 = tf.nn.relu(tf.matmul(h_pool2_flat, W_fc1) + b_fc1)\n",
        "    \n",
        "    \n",
        "    h_fc1_drop = tf.nn.dropout(h_fc1, keep_prob)\n",
        "    \n",
        "    W_fc2 = weight_variable([1024, 10])\n",
        "    b_fc2 = bias_variable([10])\n",
        "\n",
        "    y_conv = tf.matmul(h_fc1_drop, W_fc2) + b_fc2\n",
        "    output = y_conv\n",
        "    \n",
        "    return output\n",
        "  \n",
        "  \n",
        "    \n",
        "  logit = lin_model(tf_data)\n",
        "  \n",
        "  #loss = tf.reduce_mean(-tf.reduce_sum(tf_label * tf.log(logit), reduction_indices=[1]))\n",
        "  loss = tf.reduce_mean(\n",
        "      tf.nn.softmax_cross_entropy_with_logits_v2(labels=tf_label, logits=logit))\n",
        "  \n",
        "  #optimizer = tf.train.GradientDescentOptimizer(0.05).minimize(loss)\n",
        "  optimizer = tf.train.AdamOptimizer(1e-4).minimize(loss) \n",
        "  \n",
        "  train_pred = tf.nn.softmax(lin_model(tf_data))\n",
        "  \n",
        "  hi = lin_model(tf_test_data)\n",
        "  test_pred = tf.nn.softmax(hi)\n",
        "  \n",
        "  train_correct_prediction = tf.equal(tf.argmax(train_pred,1), tf.argmax(tf_label,1))\n",
        "  train_accuracy = tf.reduce_mean(tf.cast(train_correct_prediction, tf.float32))\n",
        "  \n",
        "  test_correct_prediction = tf.equal(tf.argmax(test_pred,1), tf.argmax(tf_test_label,1))\n",
        "  test_accuracy = tf.reduce_mean(tf.cast(test_correct_prediction, tf.float32))\n",
        "  \n",
        "  print('Graph built')\n",
        "  \n",
        "print('Batch size:', batch_size) \n",
        "  \n",
        "  "
      ],
      "execution_count": 0,
      "outputs": [
        {
          "output_type": "stream",
          "text": [
            "Graph built\n",
            "Batch size: 100\n"
          ],
          "name": "stdout"
        }
      ]
    },
    {
      "cell_type": "markdown",
      "metadata": {
        "id": "4rPJgL2Z_CK8",
        "colab_type": "text"
      },
      "source": [
        "**Creating a session**"
      ]
    },
    {
      "cell_type": "code",
      "metadata": {
        "id": "yjuXF21ldtD1",
        "colab_type": "code",
        "outputId": "39cd999d-4342-4529-ddda-e96839edfe06",
        "colab": {
          "base_uri": "https://localhost:8080/",
          "height": 1352
        }
      },
      "source": [
        "num_step = 1000000\n",
        "\n",
        "result = []\n",
        "\n",
        "\n",
        "with tf.Session(graph=graph) as session:\n",
        "  session.run(tf.global_variables_initializer())\n",
        "  for k in range(num_step):\n",
        "    ls = np.random.choice(train_size,batch_size,replace=False)\n",
        "    feed_dicta = {tf_data: x_train[ls].astype(np.float32), tf_label: y_train_label[ls].astype(np.float32), keep_prob: 1.0}\n",
        "\n",
        "    _, l, test_acc, train_acc,test_prediction, hihi = session.run([optimizer, loss, test_accuracy, train_accuracy, test_pred, hi], feed_dict=feed_dict)\n",
        "    result.append(test_acc)\n",
        "    if k%10 == 0:\n",
        "      print('Step',k)\n",
        "      print('Loss:',l)\n",
        "      print('Mini batch accuracy:', train_acc)\n",
        "      print('Test accuracy:',test_acc)\n",
        "      print('logit:',hihi[0])\n",
        "  \n",
        "    "
      ],
      "execution_count": 0,
      "outputs": [
        {
          "output_type": "stream",
          "text": [
            "Step 0\n",
            "Loss: 8.630236\n",
            "Mini batch accuracy: 0.04\n",
            "Test accuracy: 0.0023\n",
            "logit: [  311.48642    476.46744   -443.40176    -38.060913  1076.5221\n",
            "   -80.88305     29.886042  -300.5021    -249.66116  -1045.4125  ]\n",
            "Step 10\n",
            "Loss: 2.6082265\n",
            "Mini batch accuracy: 0.08\n",
            "Test accuracy: 0.0023\n",
            "logit: [  311.48642    476.46744   -443.40176    -38.060913  1076.5221\n",
            "   -80.88305     29.886042  -300.5021    -249.66116  -1045.4125  ]\n",
            "Step 20\n",
            "Loss: 1.5486072\n",
            "Mini batch accuracy: 0.06\n",
            "Test accuracy: 0.0023\n",
            "logit: [  311.48642    476.46744   -443.40176    -38.060913  1076.5221\n",
            "   -80.88305     29.886042  -300.5021    -249.66116  -1045.4125  ]\n",
            "Step 30\n",
            "Loss: 1.0320598\n",
            "Mini batch accuracy: 0.08\n",
            "Test accuracy: 0.0023\n",
            "logit: [  311.48642    476.46744   -443.40176    -38.060913  1076.5221\n",
            "   -80.88305     29.886042  -300.5021    -249.66116  -1045.4125  ]\n"
          ],
          "name": "stdout"
        },
        {
          "output_type": "error",
          "ename": "KeyboardInterrupt",
          "evalue": "ignored",
          "traceback": [
            "\u001b[0;31m---------------------------------------------------------------------------\u001b[0m",
            "\u001b[0;31mKeyboardInterrupt\u001b[0m                         Traceback (most recent call last)",
            "\u001b[0;32m<ipython-input-19-40c8031e3f83>\u001b[0m in \u001b[0;36m<module>\u001b[0;34m()\u001b[0m\n\u001b[1;32m     10\u001b[0m     \u001b[0mfeed_dicta\u001b[0m \u001b[0;34m=\u001b[0m \u001b[0;34m{\u001b[0m\u001b[0mtf_data\u001b[0m\u001b[0;34m:\u001b[0m \u001b[0mx_train\u001b[0m\u001b[0;34m[\u001b[0m\u001b[0mls\u001b[0m\u001b[0;34m]\u001b[0m\u001b[0;34m.\u001b[0m\u001b[0mastype\u001b[0m\u001b[0;34m(\u001b[0m\u001b[0mnp\u001b[0m\u001b[0;34m.\u001b[0m\u001b[0mfloat32\u001b[0m\u001b[0;34m)\u001b[0m\u001b[0;34m,\u001b[0m \u001b[0mtf_label\u001b[0m\u001b[0;34m:\u001b[0m \u001b[0my_train_label\u001b[0m\u001b[0;34m[\u001b[0m\u001b[0mls\u001b[0m\u001b[0;34m]\u001b[0m\u001b[0;34m.\u001b[0m\u001b[0mastype\u001b[0m\u001b[0;34m(\u001b[0m\u001b[0mnp\u001b[0m\u001b[0;34m.\u001b[0m\u001b[0mfloat32\u001b[0m\u001b[0;34m)\u001b[0m\u001b[0;34m,\u001b[0m \u001b[0mkeep_prob\u001b[0m\u001b[0;34m:\u001b[0m \u001b[0;36m1.0\u001b[0m\u001b[0;34m}\u001b[0m\u001b[0;34m\u001b[0m\u001b[0m\n\u001b[1;32m     11\u001b[0m \u001b[0;34m\u001b[0m\u001b[0m\n\u001b[0;32m---> 12\u001b[0;31m     \u001b[0m_\u001b[0m\u001b[0;34m,\u001b[0m \u001b[0ml\u001b[0m\u001b[0;34m,\u001b[0m \u001b[0mtest_acc\u001b[0m\u001b[0;34m,\u001b[0m \u001b[0mtrain_acc\u001b[0m\u001b[0;34m,\u001b[0m\u001b[0mtest_prediction\u001b[0m\u001b[0;34m,\u001b[0m \u001b[0mhihi\u001b[0m \u001b[0;34m=\u001b[0m \u001b[0msession\u001b[0m\u001b[0;34m.\u001b[0m\u001b[0mrun\u001b[0m\u001b[0;34m(\u001b[0m\u001b[0;34m[\u001b[0m\u001b[0moptimizer\u001b[0m\u001b[0;34m,\u001b[0m \u001b[0mloss\u001b[0m\u001b[0;34m,\u001b[0m \u001b[0mtest_accuracy\u001b[0m\u001b[0;34m,\u001b[0m \u001b[0mtrain_accuracy\u001b[0m\u001b[0;34m,\u001b[0m \u001b[0mtest_pred\u001b[0m\u001b[0;34m,\u001b[0m \u001b[0mhi\u001b[0m\u001b[0;34m]\u001b[0m\u001b[0;34m,\u001b[0m \u001b[0mfeed_dict\u001b[0m\u001b[0;34m=\u001b[0m\u001b[0mfeed_dicta\u001b[0m\u001b[0;34m)\u001b[0m\u001b[0;34m\u001b[0m\u001b[0m\n\u001b[0m\u001b[1;32m     13\u001b[0m     \u001b[0mresult\u001b[0m\u001b[0;34m.\u001b[0m\u001b[0mappend\u001b[0m\u001b[0;34m(\u001b[0m\u001b[0mtest_acc\u001b[0m\u001b[0;34m)\u001b[0m\u001b[0;34m\u001b[0m\u001b[0m\n\u001b[1;32m     14\u001b[0m     \u001b[0;32mif\u001b[0m \u001b[0mk\u001b[0m\u001b[0;34m%\u001b[0m\u001b[0;36m10\u001b[0m \u001b[0;34m==\u001b[0m \u001b[0;36m0\u001b[0m\u001b[0;34m:\u001b[0m\u001b[0;34m\u001b[0m\u001b[0m\n",
            "\u001b[0;32m/usr/local/lib/python3.6/dist-packages/tensorflow/python/client/session.py\u001b[0m in \u001b[0;36mrun\u001b[0;34m(self, fetches, feed_dict, options, run_metadata)\u001b[0m\n\u001b[1;32m    898\u001b[0m     \u001b[0;32mtry\u001b[0m\u001b[0;34m:\u001b[0m\u001b[0;34m\u001b[0m\u001b[0m\n\u001b[1;32m    899\u001b[0m       result = self._run(None, fetches, feed_dict, options_ptr,\n\u001b[0;32m--> 900\u001b[0;31m                          run_metadata_ptr)\n\u001b[0m\u001b[1;32m    901\u001b[0m       \u001b[0;32mif\u001b[0m \u001b[0mrun_metadata\u001b[0m\u001b[0;34m:\u001b[0m\u001b[0;34m\u001b[0m\u001b[0m\n\u001b[1;32m    902\u001b[0m         \u001b[0mproto_data\u001b[0m \u001b[0;34m=\u001b[0m \u001b[0mtf_session\u001b[0m\u001b[0;34m.\u001b[0m\u001b[0mTF_GetBuffer\u001b[0m\u001b[0;34m(\u001b[0m\u001b[0mrun_metadata_ptr\u001b[0m\u001b[0;34m)\u001b[0m\u001b[0;34m\u001b[0m\u001b[0m\n",
            "\u001b[0;32m/usr/local/lib/python3.6/dist-packages/tensorflow/python/client/session.py\u001b[0m in \u001b[0;36m_run\u001b[0;34m(self, handle, fetches, feed_dict, options, run_metadata)\u001b[0m\n\u001b[1;32m   1133\u001b[0m     \u001b[0;32mif\u001b[0m \u001b[0mfinal_fetches\u001b[0m \u001b[0;32mor\u001b[0m \u001b[0mfinal_targets\u001b[0m \u001b[0;32mor\u001b[0m \u001b[0;34m(\u001b[0m\u001b[0mhandle\u001b[0m \u001b[0;32mand\u001b[0m \u001b[0mfeed_dict_tensor\u001b[0m\u001b[0;34m)\u001b[0m\u001b[0;34m:\u001b[0m\u001b[0;34m\u001b[0m\u001b[0m\n\u001b[1;32m   1134\u001b[0m       results = self._do_run(handle, final_targets, final_fetches,\n\u001b[0;32m-> 1135\u001b[0;31m                              feed_dict_tensor, options, run_metadata)\n\u001b[0m\u001b[1;32m   1136\u001b[0m     \u001b[0;32melse\u001b[0m\u001b[0;34m:\u001b[0m\u001b[0;34m\u001b[0m\u001b[0m\n\u001b[1;32m   1137\u001b[0m       \u001b[0mresults\u001b[0m \u001b[0;34m=\u001b[0m \u001b[0;34m[\u001b[0m\u001b[0;34m]\u001b[0m\u001b[0;34m\u001b[0m\u001b[0m\n",
            "\u001b[0;32m/usr/local/lib/python3.6/dist-packages/tensorflow/python/client/session.py\u001b[0m in \u001b[0;36m_do_run\u001b[0;34m(self, handle, target_list, fetch_list, feed_dict, options, run_metadata)\u001b[0m\n\u001b[1;32m   1314\u001b[0m     \u001b[0;32mif\u001b[0m \u001b[0mhandle\u001b[0m \u001b[0;32mis\u001b[0m \u001b[0;32mNone\u001b[0m\u001b[0;34m:\u001b[0m\u001b[0;34m\u001b[0m\u001b[0m\n\u001b[1;32m   1315\u001b[0m       return self._do_call(_run_fn, feeds, fetches, targets, options,\n\u001b[0;32m-> 1316\u001b[0;31m                            run_metadata)\n\u001b[0m\u001b[1;32m   1317\u001b[0m     \u001b[0;32melse\u001b[0m\u001b[0;34m:\u001b[0m\u001b[0;34m\u001b[0m\u001b[0m\n\u001b[1;32m   1318\u001b[0m       \u001b[0;32mreturn\u001b[0m \u001b[0mself\u001b[0m\u001b[0;34m.\u001b[0m\u001b[0m_do_call\u001b[0m\u001b[0;34m(\u001b[0m\u001b[0m_prun_fn\u001b[0m\u001b[0;34m,\u001b[0m \u001b[0mhandle\u001b[0m\u001b[0;34m,\u001b[0m \u001b[0mfeeds\u001b[0m\u001b[0;34m,\u001b[0m \u001b[0mfetches\u001b[0m\u001b[0;34m)\u001b[0m\u001b[0;34m\u001b[0m\u001b[0m\n",
            "\u001b[0;32m/usr/local/lib/python3.6/dist-packages/tensorflow/python/client/session.py\u001b[0m in \u001b[0;36m_do_call\u001b[0;34m(self, fn, *args)\u001b[0m\n\u001b[1;32m   1320\u001b[0m   \u001b[0;32mdef\u001b[0m \u001b[0m_do_call\u001b[0m\u001b[0;34m(\u001b[0m\u001b[0mself\u001b[0m\u001b[0;34m,\u001b[0m \u001b[0mfn\u001b[0m\u001b[0;34m,\u001b[0m \u001b[0;34m*\u001b[0m\u001b[0margs\u001b[0m\u001b[0;34m)\u001b[0m\u001b[0;34m:\u001b[0m\u001b[0;34m\u001b[0m\u001b[0m\n\u001b[1;32m   1321\u001b[0m     \u001b[0;32mtry\u001b[0m\u001b[0;34m:\u001b[0m\u001b[0;34m\u001b[0m\u001b[0m\n\u001b[0;32m-> 1322\u001b[0;31m       \u001b[0;32mreturn\u001b[0m \u001b[0mfn\u001b[0m\u001b[0;34m(\u001b[0m\u001b[0;34m*\u001b[0m\u001b[0margs\u001b[0m\u001b[0;34m)\u001b[0m\u001b[0;34m\u001b[0m\u001b[0m\n\u001b[0m\u001b[1;32m   1323\u001b[0m     \u001b[0;32mexcept\u001b[0m \u001b[0merrors\u001b[0m\u001b[0;34m.\u001b[0m\u001b[0mOpError\u001b[0m \u001b[0;32mas\u001b[0m \u001b[0me\u001b[0m\u001b[0;34m:\u001b[0m\u001b[0;34m\u001b[0m\u001b[0m\n\u001b[1;32m   1324\u001b[0m       \u001b[0mmessage\u001b[0m \u001b[0;34m=\u001b[0m \u001b[0mcompat\u001b[0m\u001b[0;34m.\u001b[0m\u001b[0mas_text\u001b[0m\u001b[0;34m(\u001b[0m\u001b[0me\u001b[0m\u001b[0;34m.\u001b[0m\u001b[0mmessage\u001b[0m\u001b[0;34m)\u001b[0m\u001b[0;34m\u001b[0m\u001b[0m\n",
            "\u001b[0;32m/usr/local/lib/python3.6/dist-packages/tensorflow/python/client/session.py\u001b[0m in \u001b[0;36m_run_fn\u001b[0;34m(feed_dict, fetch_list, target_list, options, run_metadata)\u001b[0m\n\u001b[1;32m   1305\u001b[0m       \u001b[0mself\u001b[0m\u001b[0;34m.\u001b[0m\u001b[0m_extend_graph\u001b[0m\u001b[0;34m(\u001b[0m\u001b[0;34m)\u001b[0m\u001b[0;34m\u001b[0m\u001b[0m\n\u001b[1;32m   1306\u001b[0m       return self._call_tf_sessionrun(\n\u001b[0;32m-> 1307\u001b[0;31m           options, feed_dict, fetch_list, target_list, run_metadata)\n\u001b[0m\u001b[1;32m   1308\u001b[0m \u001b[0;34m\u001b[0m\u001b[0m\n\u001b[1;32m   1309\u001b[0m     \u001b[0;32mdef\u001b[0m \u001b[0m_prun_fn\u001b[0m\u001b[0;34m(\u001b[0m\u001b[0mhandle\u001b[0m\u001b[0;34m,\u001b[0m \u001b[0mfeed_dict\u001b[0m\u001b[0;34m,\u001b[0m \u001b[0mfetch_list\u001b[0m\u001b[0;34m)\u001b[0m\u001b[0;34m:\u001b[0m\u001b[0;34m\u001b[0m\u001b[0m\n",
            "\u001b[0;32m/usr/local/lib/python3.6/dist-packages/tensorflow/python/client/session.py\u001b[0m in \u001b[0;36m_call_tf_sessionrun\u001b[0;34m(self, options, feed_dict, fetch_list, target_list, run_metadata)\u001b[0m\n\u001b[1;32m   1407\u001b[0m       return tf_session.TF_SessionRun_wrapper(\n\u001b[1;32m   1408\u001b[0m           \u001b[0mself\u001b[0m\u001b[0;34m.\u001b[0m\u001b[0m_session\u001b[0m\u001b[0;34m,\u001b[0m \u001b[0moptions\u001b[0m\u001b[0;34m,\u001b[0m \u001b[0mfeed_dict\u001b[0m\u001b[0;34m,\u001b[0m \u001b[0mfetch_list\u001b[0m\u001b[0;34m,\u001b[0m \u001b[0mtarget_list\u001b[0m\u001b[0;34m,\u001b[0m\u001b[0;34m\u001b[0m\u001b[0m\n\u001b[0;32m-> 1409\u001b[0;31m           run_metadata)\n\u001b[0m\u001b[1;32m   1410\u001b[0m     \u001b[0;32melse\u001b[0m\u001b[0;34m:\u001b[0m\u001b[0;34m\u001b[0m\u001b[0m\n\u001b[1;32m   1411\u001b[0m       \u001b[0;32mwith\u001b[0m \u001b[0merrors\u001b[0m\u001b[0;34m.\u001b[0m\u001b[0mraise_exception_on_not_ok_status\u001b[0m\u001b[0;34m(\u001b[0m\u001b[0;34m)\u001b[0m \u001b[0;32mas\u001b[0m \u001b[0mstatus\u001b[0m\u001b[0;34m:\u001b[0m\u001b[0;34m\u001b[0m\u001b[0m\n",
            "\u001b[0;31mKeyboardInterrupt\u001b[0m: "
          ]
        }
      ]
    },
    {
      "cell_type": "code",
      "metadata": {
        "id": "XOwXPiOFvTjb",
        "colab_type": "code",
        "outputId": "2649e815-6071-43bc-974e-b6748cf5ae4a",
        "colab": {
          "base_uri": "https://localhost:8080/",
          "height": 33
        }
      },
      "source": [
        "a = \"A\"\n",
        "print(type(ord(a)))"
      ],
      "execution_count": 0,
      "outputs": [
        {
          "output_type": "stream",
          "text": [
            "<class 'int'>\n"
          ],
          "name": "stdout"
        }
      ]
    },
    {
      "cell_type": "code",
      "metadata": {
        "id": "q1s18A6JR_Du",
        "colab_type": "code",
        "outputId": "b288f55f-5fd6-4485-f670-b1cc9251ab66",
        "colab": {
          "base_uri": "https://localhost:8080/",
          "height": 33
        }
      },
      "source": [
        "y_train_label.dtype"
      ],
      "execution_count": 0,
      "outputs": [
        {
          "output_type": "execute_result",
          "data": {
            "text/plain": [
              "dtype('float32')"
            ]
          },
          "metadata": {
            "tags": []
          },
          "execution_count": 117
        }
      ]
    },
    {
      "cell_type": "markdown",
      "metadata": {
        "id": "v_j4d_oo_I1F",
        "colab_type": "text"
      },
      "source": [
        "**Plotting accuracy**"
      ]
    },
    {
      "cell_type": "code",
      "metadata": {
        "id": "81Ai8GHhm0Pl",
        "colab_type": "code",
        "outputId": "15541b0b-b67f-4e24-d549-e16a3610872f",
        "colab": {
          "base_uri": "https://localhost:8080/",
          "height": 162
        }
      },
      "source": [
        "plt.plot(result)"
      ],
      "execution_count": 0,
      "outputs": [
        {
          "output_type": "error",
          "ename": "NameError",
          "evalue": "ignored",
          "traceback": [
            "\u001b[0;31m---------------------------------------------------------------------------\u001b[0m",
            "\u001b[0;31mNameError\u001b[0m                                 Traceback (most recent call last)",
            "\u001b[0;32m<ipython-input-10-60b68472457c>\u001b[0m in \u001b[0;36m<module>\u001b[0;34m()\u001b[0m\n\u001b[0;32m----> 1\u001b[0;31m \u001b[0mplt\u001b[0m\u001b[0;34m.\u001b[0m\u001b[0mplot\u001b[0m\u001b[0;34m(\u001b[0m\u001b[0mresult\u001b[0m\u001b[0;34m)\u001b[0m\u001b[0;34m\u001b[0m\u001b[0m\n\u001b[0m",
            "\u001b[0;31mNameError\u001b[0m: name 'result' is not defined"
          ]
        }
      ]
    },
    {
      "cell_type": "markdown",
      "metadata": {
        "id": "FyM1cxxW_Lgt",
        "colab_type": "text"
      },
      "source": [
        "**Tensorboard**"
      ]
    },
    {
      "cell_type": "code",
      "metadata": {
        "id": "Z1ZsXzC4QtbN",
        "colab_type": "code",
        "outputId": "4a43c7be-88cd-4034-b55c-7f1901d98410",
        "colab": {
          "base_uri": "https://localhost:8080/",
          "height": 234
        }
      },
      "source": [
        "!wget https://bin.equinox.io/c/4VmDzA7iaHb/ngrok-stable-linux-amd64.zip\n",
        "!unzip ngrok-stable-linux-amd64.zip"
      ],
      "execution_count": 0,
      "outputs": [
        {
          "output_type": "stream",
          "text": [
            "--2018-07-31 14:58:05--  https://bin.equinox.io/c/4VmDzA7iaHb/ngrok-stable-linux-amd64.zip\r\n",
            "Resolving bin.equinox.io (bin.equinox.io)... 54.152.208.69, 54.164.206.44, 52.86.186.182, ...\n",
            "Connecting to bin.equinox.io (bin.equinox.io)|54.152.208.69|:443... connected.\n",
            "HTTP request sent, awaiting response... 200 OK\n",
            "Length: 5363700 (5.1M) [application/octet-stream]\n",
            "Saving to: ‘ngrok-stable-linux-amd64.zip.1’\n",
            "\n",
            "ngrok-stable-linux- 100%[===================>]   5.11M  7.68MB/s    in 0.7s    \n",
            "\n",
            "2018-07-31 14:58:06 (7.68 MB/s) - ‘ngrok-stable-linux-amd64.zip.1’ saved [5363700/5363700]\n",
            "\n",
            "Archive:  ngrok-stable-linux-amd64.zip\n",
            "replace ngrok? [y]es, [n]o, [A]ll, [N]one, [r]ename: ^C\n"
          ],
          "name": "stdout"
        }
      ]
    },
    {
      "cell_type": "code",
      "metadata": {
        "id": "eip9-871Wnm3",
        "colab_type": "code",
        "colab": {}
      },
      "source": [
        "!y"
      ],
      "execution_count": 0,
      "outputs": []
    },
    {
      "cell_type": "code",
      "metadata": {
        "id": "WaNPOHP6_XSb",
        "colab_type": "code",
        "colab": {}
      },
      "source": [
        "LOG_DIR = './log'\n",
        "get_ipython().system_raw(\n",
        "    'tensorboard --logdir {} --host 0.0.0.0 --port 6006 &'\n",
        "    .format(LOG_DIR)\n",
        ")"
      ],
      "execution_count": 0,
      "outputs": []
    },
    {
      "cell_type": "code",
      "metadata": {
        "id": "XCO6cT5S0w9q",
        "colab_type": "code",
        "colab": {}
      },
      "source": [
        "get_ipython().system_raw('./ngrok http 6006 &')"
      ],
      "execution_count": 0,
      "outputs": []
    },
    {
      "cell_type": "code",
      "metadata": {
        "id": "MHH810-a_2k9",
        "colab_type": "code",
        "outputId": "3c2435b7-123a-4526-9b85-3a7d65df0f8d",
        "colab": {
          "base_uri": "https://localhost:8080/",
          "height": 33
        }
      },
      "source": [
        "! curl -s http://localhost:4040/api/tunnels | python3 -c \\\n",
        "    \"import sys, json; print(json.load(sys.stdin)['tunnels'][0]['public_url'])\"                                                                                                                                                                                                                                       "
      ],
      "execution_count": 0,
      "outputs": [
        {
          "output_type": "stream",
          "text": [
            "http://1f0a602f.ngrok.io\r\n"
          ],
          "name": "stdout"
        }
      ]
    },
    {
      "cell_type": "code",
      "metadata": {
        "id": "N7Yk_sU4zJfP",
        "colab_type": "code",
        "outputId": "1c3fa1f0-4778-4ae5-9690-55621b3baade",
        "colab": {
          "base_uri": "https://localhost:8080/",
          "height": 33
        }
      },
      "source": [
        "ls"
      ],
      "execution_count": 0,
      "outputs": [
        {
          "output_type": "stream",
          "text": [
            "\u001b[0m\u001b[01;34mdatalab\u001b[0m/  \u001b[01;34mlog\u001b[0m/  \u001b[01;32mngrok\u001b[0m*  ngrok-stable-linux-amd64.zip\r\n"
          ],
          "name": "stdout"
        }
      ]
    },
    {
      "cell_type": "code",
      "metadata": {
        "id": "nRL-tetqdpR-",
        "colab_type": "code",
        "colab": {}
      },
      "source": [
        "from google.colab import files"
      ],
      "execution_count": 0,
      "outputs": []
    },
    {
      "cell_type": "code",
      "metadata": {
        "id": "nSC_fF6O3pwV",
        "colab_type": "code",
        "outputId": "928f4ef9-4e59-48fd-9ceb-c65ce100bbac",
        "colab": {
          "resources": {
            "http://localhost:8080/nbextensions/google.colab/files.js": {
              "data": "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",
              "ok": true,
              "headers": [
                [
                  "content-type",
                  "application/javascript"
                ]
              ],
              "status": 200,
              "status_text": ""
            }
          },
          "base_uri": "https://localhost:8080/",
          "height": 39
        }
      },
      "source": [
        "hi = files.upload()"
      ],
      "execution_count": 0,
      "outputs": [
        {
          "output_type": "display_data",
          "data": {
            "text/html": [
              "\n",
              "     <input type=\"file\" id=\"files-ba61b21c-aa90-4892-93e4-fbd628ebf94a\" name=\"files[]\" multiple disabled />\n",
              "     <output id=\"result-ba61b21c-aa90-4892-93e4-fbd628ebf94a\">\n",
              "      Upload widget is only available when the cell has been executed in the\n",
              "      current browser session. Please rerun this cell to enable.\n",
              "      </output>\n",
              "      <script src=\"/nbextensions/google.colab/files.js\"></script> "
            ],
            "text/plain": [
              "<IPython.core.display.HTML object>"
            ]
          },
          "metadata": {
            "tags": []
          }
        }
      ]
    },
    {
      "cell_type": "code",
      "metadata": {
        "id": "HoYuHd6S3q1s",
        "colab_type": "code",
        "outputId": "edf30484-5618-4f0d-c742-22571c8ce4b0",
        "colab": {
          "base_uri": "https://localhost:8080/",
          "height": 34
        }
      },
      "source": [
        "!pwd"
      ],
      "execution_count": 0,
      "outputs": [
        {
          "output_type": "stream",
          "text": [
            "/content\r\n"
          ],
          "name": "stdout"
        }
      ]
    },
    {
      "cell_type": "code",
      "metadata": {
        "id": "0vVx1DvQHzxy",
        "colab_type": "code",
        "colab": {}
      },
      "source": [
        "!cd datalab"
      ],
      "execution_count": 0,
      "outputs": []
    },
    {
      "cell_type": "code",
      "metadata": {
        "id": "W1meBi-WJnWF",
        "colab_type": "code",
        "outputId": "b3307593-7ecf-404b-f7cb-035dcf728629",
        "colab": {
          "base_uri": "https://localhost:8080/",
          "height": 34
        }
      },
      "source": [
        "ls"
      ],
      "execution_count": 0,
      "outputs": [
        {
          "output_type": "stream",
          "text": [
            "\u001b[0m\u001b[01;34mdatalab\u001b[0m/  \u001b[01;34mlog\u001b[0m/\r\n"
          ],
          "name": "stdout"
        }
      ]
    },
    {
      "cell_type": "code",
      "metadata": {
        "id": "aW4mX_qNJqii",
        "colab_type": "code",
        "colab": {}
      },
      "source": [
        "rm -rf log ngrok-stable-linux-amd64.zip.1"
      ],
      "execution_count": 0,
      "outputs": []
    },
    {
      "cell_type": "code",
      "metadata": {
        "id": "oK1Mae18zm8x",
        "colab_type": "code",
        "colab": {}
      },
      "source": [
        "from google.colab import files\n",
        "files.download('model.hdf5')"
      ],
      "execution_count": 0,
      "outputs": []
    },
    {
      "cell_type": "code",
      "metadata": {
        "id": "XeICZ8RzYJUv",
        "colab_type": "code",
        "outputId": "f02ff51c-5061-4095-82d7-fa06e029c71d",
        "colab": {
          "base_uri": "https://localhost:8080/",
          "height": 522
        }
      },
      "source": [
        "from tensorflow.examples.tutorials.mnist import input_data\n",
        "mnist = input_data.read_data_sets('MNIST_data', one_hot=True)\n",
        "import tensorflow as tf\n",
        "sess = tf.InteractiveSession()\n",
        "x = tf.placeholder(tf.float32, shape=[None, 784])\n",
        "y_ = tf.placeholder(tf.float32, shape=[None, 10])\n",
        "W = tf.Variable(tf.zeros([784,10]))\n",
        "b = tf.Variable(tf.zeros([10]))\n",
        "sess.run(tf.global_variables_initializer())\n",
        "y = tf.matmul(x,W) + b\n",
        "cross_entropy = tf.reduce_mean(\n",
        "    tf.nn.softmax_cross_entropy_with_logits(labels=y_, logits=y))\n",
        "train_step = tf.train.GradientDescentOptimizer(0.5).minimize(cross_entropy)\n",
        "for _ in range(1000):\n",
        "  batch = mnist.train.next_batch(100)\n",
        "  train_step.run(feed_dict={x: batch[0], y_: batch[1]})\n"
      ],
      "execution_count": 0,
      "outputs": [
        {
          "output_type": "stream",
          "text": [
            "WARNING:tensorflow:From <ipython-input-14-fcb06ebae16f>:2: read_data_sets (from tensorflow.contrib.learn.python.learn.datasets.mnist) is deprecated and will be removed in a future version.\n",
            "Instructions for updating:\n",
            "Please use alternatives such as official/mnist/dataset.py from tensorflow/models.\n",
            "WARNING:tensorflow:From /usr/local/lib/python3.6/dist-packages/tensorflow/contrib/learn/python/learn/datasets/mnist.py:260: maybe_download (from tensorflow.contrib.learn.python.learn.datasets.base) is deprecated and will be removed in a future version.\n",
            "Instructions for updating:\n",
            "Please write your own downloading logic.\n",
            "WARNING:tensorflow:From /usr/local/lib/python3.6/dist-packages/tensorflow/contrib/learn/python/learn/datasets/base.py:252: _internal_retry.<locals>.wrap.<locals>.wrapped_fn (from tensorflow.contrib.learn.python.learn.datasets.base) is deprecated and will be removed in a future version.\n",
            "Instructions for updating:\n",
            "Please use urllib or similar directly.\n",
            "Successfully downloaded train-images-idx3-ubyte.gz 9912422 bytes.\n",
            "WARNING:tensorflow:From /usr/local/lib/python3.6/dist-packages/tensorflow/contrib/learn/python/learn/datasets/mnist.py:262: extract_images (from tensorflow.contrib.learn.python.learn.datasets.mnist) is deprecated and will be removed in a future version.\n",
            "Instructions for updating:\n",
            "Please use tf.data to implement this functionality.\n",
            "Extracting MNIST_data/train-images-idx3-ubyte.gz\n",
            "Successfully downloaded train-labels-idx1-ubyte.gz 28881 bytes.\n",
            "WARNING:tensorflow:From /usr/local/lib/python3.6/dist-packages/tensorflow/contrib/learn/python/learn/datasets/mnist.py:267: extract_labels (from tensorflow.contrib.learn.python.learn.datasets.mnist) is deprecated and will be removed in a future version.\n",
            "Instructions for updating:\n",
            "Please use tf.data to implement this functionality.\n",
            "Extracting MNIST_data/train-labels-idx1-ubyte.gz\n",
            "WARNING:tensorflow:From /usr/local/lib/python3.6/dist-packages/tensorflow/contrib/learn/python/learn/datasets/mnist.py:110: dense_to_one_hot (from tensorflow.contrib.learn.python.learn.datasets.mnist) is deprecated and will be removed in a future version.\n",
            "Instructions for updating:\n",
            "Please use tf.one_hot on tensors.\n",
            "Successfully downloaded t10k-images-idx3-ubyte.gz 1648877 bytes.\n",
            "Extracting MNIST_data/t10k-images-idx3-ubyte.gz\n",
            "Successfully downloaded t10k-labels-idx1-ubyte.gz 4542 bytes.\n",
            "Extracting MNIST_data/t10k-labels-idx1-ubyte.gz\n",
            "WARNING:tensorflow:From /usr/local/lib/python3.6/dist-packages/tensorflow/contrib/learn/python/learn/datasets/mnist.py:290: DataSet.__init__ (from tensorflow.contrib.learn.python.learn.datasets.mnist) is deprecated and will be removed in a future version.\n",
            "Instructions for updating:\n",
            "Please use alternatives such as official/mnist/dataset.py from tensorflow/models.\n"
          ],
          "name": "stdout"
        }
      ]
    },
    {
      "cell_type": "code",
      "metadata": {
        "id": "lbkfZIRlcgwM",
        "colab_type": "code",
        "colab": {}
      },
      "source": [
        "correct_prediction = tf.equal(tf.argmax(y,1), tf.argmax(y_,1))\n",
        "accuracy = tf.reduce_mean(tf.cast(correct_prediction, tf.float32))\n",
        "print(accuracy.eval(feed_dict={x: mnist.test.images, y_: mnist.test.labels}))\n",
        "\n",
        "def weight_variable(shape):\n",
        "  initial = tf.truncated_normal(shape, stddev=0.1)\n",
        "  return tf.Variable(initial)\n",
        "\n",
        "def bias_variable(shape):\n",
        "  initial = tf.constant(0.1, shape=shape)\n",
        "  return tf.Variable(initial)\n",
        "def conv2d(x, W):\n",
        "  return tf.nn.conv2d(x, W, strides=[1, 1, 1, 1], padding='SAME')\n",
        "\n",
        "def max_pool_2x2(x):\n",
        "  return tf.nn.max_pool(x, ksize=[1, 2, 2, 1],\n",
        "                        strides=[1, 2, 2, 1], padding='SAME')\n",
        "\n",
        "W_conv1 = weight_variable([5, 5, 1, 32])\n",
        "b_conv1 = bias_variable([32])\n",
        "x_image = tf.reshape(x, [-1, 28, 28, 1])\n",
        "h_conv1 = tf.nn.relu(conv2d(x_image, W_conv1) + b_conv1)\n",
        "h_pool1 = max_pool_2x2(h_conv1)\n",
        "W_conv2 = weight_variable([5, 5, 32, 64])\n",
        "b_conv2 = bias_variable([64])\n",
        "\n",
        "h_conv2 = tf.nn.relu(conv2d(h_pool1, W_conv2) + b_conv2)\n",
        "h_pool2 = max_pool_2x2(h_conv2)\n",
        "W_fc1 = weight_variable([7 * 7 * 64, 1024])\n",
        "b_fc1 = bias_variable([1024])\n",
        "\n",
        "h_pool2_flat = tf.reshape(h_pool2, [-1, 7*7*64])\n",
        "h_fc1 = tf.nn.relu(tf.matmul(h_pool2_flat, W_fc1) + b_fc1)\n",
        "keep_prob = tf.placeholder(tf.float32)\n",
        "h_fc1_drop = tf.nn.dropout(h_fc1, keep_prob)\n",
        "W_fc2 = weight_variable([1024, 10])\n",
        "b_fc2 = bias_variable([10])\n",
        "\n",
        "y_conv = tf.matmul(h_fc1_drop, W_fc2) + b_fc2\n",
        "cross_entropy = tf.reduce_mean(\n",
        "    tf.nn.softmax_cross_entropy_with_logits(labels=y_, logits=y_conv))\n",
        "train_step = tf.train.AdamOptimizer(1e-4).minimize(cross_entropy)\n",
        "correct_prediction = tf.equal(tf.argmax(y_conv, 1), tf.argmax(y_, 1))\n",
        "accuracy = tf.reduce_mean(tf.cast(correct_prediction, tf.float32))\n",
        "\n",
        "with tf.Session() as sess:\n",
        "  sess.run(tf.global_variables_initializer())\n",
        "  for i in range(20000):\n",
        "    batch = mnist.train.next_batch(50)\n",
        "    if i % 100 == 0:\n",
        "      train_accuracy = accuracy.eval(feed_dict={\n",
        "          x: batch[0], y_: batch[1], keep_prob: 1.0})\n",
        "      print('step %d, training accuracy %g' % (i, train_accuracy))\n",
        "      print('cross entropy %g' % cross_entropy.eval(feed_dict={\n",
        "          x: mnist.test.images, y_: mnist.test.labels, keep_prob: 1.0}))\n",
        "    train_step.run(feed_dict={x: batch[0], y_: batch[1], keep_prob: 0.5})\n",
        "\n",
        "  print('test accuracy %g' % accuracy.eval(feed_dict={\n",
        "      x: mnist.test.images, y_: mnist.test.labels, keep_prob: 1.0}))"
      ],
      "execution_count": 0,
      "outputs": []
    },
    {
      "cell_type": "code",
      "metadata": {
        "id": "KCYZ-O68dAzX",
        "colab_type": "code",
        "colab": {}
      },
      "source": [
        "batch_size = 100\n",
        "test_size = x_test.shape[0]\n",
        "\n",
        "graph2 = tf.Graph()\n",
        "with graph2.as_default():\n",
        "  \n",
        "  tf_data = tf.placeholder(tf.float32, [batch_size, 28,28,1],name='data')\n",
        "  tf_label = tf.placeholder(tf.float32, [batch_size, 10], name='label')\n",
        "  keep_prob = tf.placeholder(tf.float32,name='kp')\n",
        "  \n",
        "  tf_test_data = tf.constant(x_test.reshape(-1,28,28,1))\n",
        "  tf_test_label = tf.constant(y_test_label)\n",
        "  \n",
        "  \n",
        "  def weight_variable(shape):\n",
        "    initial = tf.truncated_normal(shape, stddev=0.1)\n",
        "    return tf.Variable(initial)\n",
        "\n",
        "  def bias_variable(shape):\n",
        "    initial = tf.constant(0.1, shape=shape)\n",
        "    return tf.Variable(initial)\n",
        "  \n",
        "  def conv2d(x, W):\n",
        "    return tf.nn.conv2d(x, W, strides=[1, 1, 1, 1], padding='SAME')\n",
        "\n",
        "  def max_pool_2x2(x):\n",
        "    return tf.nn.max_pool(x, ksize=[1, 2, 2, 1], strides=[1, 2, 2, 1], padding='SAME')\n",
        "\n",
        "  \n",
        "  def model(x):\n",
        "    W_conv1 = weight_variable([5, 5, 1, 32])\n",
        "    b_conv1 = bias_variable([32])\n",
        "    x_image = tf.reshape(x, [-1, 28, 28, 1])\n",
        "    \n",
        "    h_conv1 = tf.nn.relu(conv2d(x_image, W_conv1) + b_conv1)\n",
        "    h_pool1 = max_pool_2x2(h_conv1)\n",
        "    W_conv2 = weight_variable([5, 5, 32, 64])\n",
        "    b_conv2 = bias_variable([64])\n",
        "\n",
        "    h_conv2 = tf.nn.relu(conv2d(h_pool1, W_conv2) + b_conv2)\n",
        "    h_pool2 = max_pool_2x2(h_conv2)\n",
        "    W_fc1 = weight_variable([7 * 7 * 64, 1024])\n",
        "    b_fc1 = bias_variable([1024])\n",
        "\n",
        "    h_pool2_flat = tf.reshape(h_pool2, [-1, 7*7*64])\n",
        "    h_fc1 = tf.nn.relu(tf.matmul(h_pool2_flat, W_fc1) + b_fc1)\n",
        "    keep_prob = tf.placeholder(tf.float32)\n",
        "    h_fc1_drop = tf.nn.dropout(h_fc1, keep_prob)\n",
        "    W_fc2 = weight_variable([1024, 10])\n",
        "    b_fc2 = bias_variable([10])\n",
        "\n",
        "    y_conv = tf.matmul(h_fc1_drop, W_fc2) + b_fc2\n",
        "    \n",
        "    return y_conv\n",
        "  \n",
        "  \n",
        "  def weight_variable(shape):\n",
        "    initial = tf.truncated_normal(shape, stddev=0.1)\n",
        "    return tf.Variable(initial)\n",
        "\n",
        "  def bias_variable(shape):\n",
        "    initial = tf.constant(0.1, shape=shape)\n",
        "    return tf.Variable(initial)\n",
        "  \n",
        "  def conv2d(x, W):\n",
        "    return tf.nn.conv2d(x, W, strides=[1, 1, 1, 1], padding='SAME')\n",
        "\n",
        "  def max_pool_2x2(x):\n",
        "    return tf.nn.max_pool(x, ksize=[1, 2, 2, 1],\n",
        "                        strides=[1, 2, 2, 1], padding='SAME')\n",
        "  \n",
        "\n",
        "\n",
        "  \n",
        "  \n",
        "  def lin_model(data):\n",
        "    \"\"\"\n",
        "    output = tf.matmul(tf.reshape(data,shape=(-1,28*28)),w1) + b1\n",
        "    \"\"\"\n",
        "    W_conv1 = weight_variable([5, 5, 1, 32])\n",
        "    b_conv1 = bias_variable([32])\n",
        "  \n",
        "    h_conv1 = tf.nn.relu(conv2d(data, W_conv1) + b_conv1)\n",
        "    h_pool1 = max_pool_2x2(h_conv1)\n",
        "    \n",
        "    W_conv2 = weight_variable([5, 5, 32, 64])\n",
        "    b_conv2 = bias_variable([64])\n",
        "    \n",
        "    h_conv2 = tf.nn.relu(conv2d(h_pool1, W_conv2) + b_conv2)\n",
        "    h_pool2 = max_pool_2x2(h_conv2)\n",
        "   \n",
        "    \n",
        "    W_fc1 = weight_variable([7 * 7 * 64, 1024])\n",
        "    b_fc1 = bias_variable([1024])\n",
        "\n",
        "    h_pool2_flat = tf.reshape(h_pool2, [-1, 7*7*64])\n",
        "    h_fc1 = tf.nn.relu(tf.matmul(h_pool2_flat, W_fc1) + b_fc1)\n",
        "    \n",
        "    \n",
        "    h_fc1_drop = tf.nn.dropout(h_fc1, keep_prob)\n",
        "    \n",
        "    W_fc2 = weight_variable([1024, 10])\n",
        "    b_fc2 = bias_variable([10])\n",
        "\n",
        "    y_conv = tf.matmul(h_fc1_drop, W_fc2) + b_fc2\n",
        "    output = y_conv\n",
        "    \n",
        "    return output\n",
        "  \n",
        "  \n",
        "    \n",
        "  logit = lin_model(tf_data)\n",
        "  \n",
        "  #loss = tf.reduce_mean(-tf.reduce_sum(tf_label * tf.log(logit), reduction_indices=[1]))\n",
        "  loss = tf.reduce_mean(\n",
        "      tf.nn.softmax_cross_entropy_with_logits_v2(labels=tf_label, logits=logit))\n",
        "  \n",
        "  #optimizer = tf.train.GradientDescentOptimizer(0.05).minimize(loss)\n",
        "  optimizer = tf.train.AdamOptimizer(1e-4).minimize(loss) \n",
        "  \n",
        "  train_pred = tf.nn.softmax(lin_model(tf_data))\n",
        "  \n",
        "  hi = lin_model(tf_test_data)\n",
        "  test_pred = tf.nn.softmax(hi)\n",
        "  \n",
        "  train_correct_prediction = tf.equal(tf.argmax(train_pred,1), tf.argmax(tf_label,1))\n",
        "  train_accuracy = tf.reduce_mean(tf.cast(train_correct_prediction, tf.float32))\n",
        "  \n",
        "  test_correct_prediction = tf.equal(tf.argmax(test_pred,1), tf.argmax(tf_test_label,1))\n",
        "  test_accuracy = tf.reduce_mean(tf.cast(test_correct_prediction, tf.float32))\n",
        "  \n",
        "  print('Graph built')\n",
        "  \n",
        "print('Batch size:', batch_size) \n",
        "  \n",
        "  "
      ],
      "execution_count": 0,
      "outputs": []
    },
    {
      "cell_type": "code",
      "metadata": {
        "id": "IV4gInSB3CB7",
        "colab_type": "code",
        "outputId": "234051d5-8982-45db-f911-2ddcaac58768",
        "colab": {
          "base_uri": "https://localhost:8080/",
          "height": 33
        }
      },
      "source": [
        "a = 5\n",
        "b = 5\n",
        "if b>= a:\n",
        "  print(\"h\")"
      ],
      "execution_count": 0,
      "outputs": [
        {
          "output_type": "stream",
          "text": [
            "h\n"
          ],
          "name": "stdout"
        }
      ]
    },
    {
      "cell_type": "code",
      "metadata": {
        "id": "TGoXldqp3Fj1",
        "colab_type": "code",
        "colab": {}
      },
      "source": [
        "import random\n",
        "if random.randint(0, 1) == 2:\n",
        "  print(\"h\")"
      ],
      "execution_count": 0,
      "outputs": []
    },
    {
      "cell_type": "code",
      "metadata": {
        "id": "k_4rOyum3fkO",
        "colab_type": "code",
        "colab": {}
      },
      "source": [
        ""
      ],
      "execution_count": 0,
      "outputs": []
    }
  ]
}